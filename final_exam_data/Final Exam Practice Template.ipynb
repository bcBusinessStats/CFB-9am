{
 "cells": [
  {
   "cell_type": "code",
   "execution_count": null,
   "metadata": {},
   "outputs": [],
   "source": [
    "#Run this cell to print multiple outputs from a cell\n",
    "get_ipython().ast_node_interactivity = 'all'"
   ]
  },
  {
   "cell_type": "markdown",
   "metadata": {},
   "source": [
    "To test **any** query, including ones that use LIKE, just copy and paste your query into the string below, replacing the existing query.  Make sure music.db is in the same folder as this Jupyter notebook when you run it."
   ]
  },
  {
   "cell_type": "code",
   "execution_count": null,
   "id": "22e45c4d-eeee-46fd-b1e9-dbc90ccd600e",
   "metadata": {},
   "outputs": [],
   "source": [
    "import sqlite3\n",
    "\n",
    "connection = sqlite3.connect('music.db')\n",
    "\n",
    "query = \"\"\"\n",
    "select * from genres\n",
    "where Name LIKE \"%s%\" \n",
    "\n",
    "\"\"\"\n",
    "result = connection.execute(query)\n",
    "for row in result:\n",
    "    print(row)"
   ]
  }
 ],
 "metadata": {
  "kernelspec": {
   "display_name": "Python 3 (ipykernel)",
   "language": "python",
   "name": "python3"
  },
  "language_info": {
   "codemirror_mode": {
    "name": "ipython",
    "version": 3
   },
   "file_extension": ".py",
   "mimetype": "text/x-python",
   "name": "python",
   "nbconvert_exporter": "python",
   "pygments_lexer": "ipython3",
   "version": "3.11.4"
  }
 },
 "nbformat": 4,
 "nbformat_minor": 5
}
