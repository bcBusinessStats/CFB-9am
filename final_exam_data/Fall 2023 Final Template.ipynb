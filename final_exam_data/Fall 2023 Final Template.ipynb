{
 "cells": [
  {
   "cell_type": "code",
   "execution_count": null,
   "metadata": {},
   "outputs": [],
   "source": [
    "#Run this cell to print multiple outputs from a cell\n",
    "get_ipython().ast_node_interactivity = 'all'"
   ]
  },
  {
   "cell_type": "markdown",
   "metadata": {},
   "source": [
    "To test **any** query, including ones that use LIKE, just copy and paste your query into the string below.  Make sure music.db is in the same folder as this Jupyter notebook when you run it."
   ]
  },
  {
   "cell_type": "code",
   "execution_count": null,
   "metadata": {},
   "outputs": [],
   "source": [
    "import sqlite3\n",
    "\n",
    "connection = sqlite3.connect('music.db')\n",
    "\n",
    "query = \"\"\"\n",
    "\n",
    "\n",
    "\"\"\"\n",
    "result = connection.execute(query)\n",
    "for row in result:\n",
    "    print(row)"
   ]
  },
  {
   "cell_type": "markdown",
   "metadata": {},
   "source": [
    "### Question 2\n",
    "\n",
    "The file zagat.csv contains information about 100 restaurants from the Zagat restaurant rating organization:  \n",
    "* Their *location*, whether Suburban or City\n",
    "* The ratings for *food*, *decor*, and *service*\n",
    "* The *total* rating (the sum of the ratings above)\n",
    "* The average *price* of a meal for one person at the restaurant.\n",
    "\n",
    "Write a function *zagat* with one parameter, *file*, the name of a csv file with columns like the one above.  \n",
    "\n",
    "The function should return a dataframe with only the columns \"location\", \"total\", and \"price\", and a column called \"ratio\" that is the total rating divided by the price.  The dataframe should contain only those rows where the value of \"price\" is greater than 50 or the location is City.  Sort in ascending order of *total*."
   ]
  },
  {
   "cell_type": "code",
   "execution_count": null,
   "metadata": {},
   "outputs": [],
   "source": [
    "import pandas as pd\n",
    "def zagat(file):"
   ]
  },
  {
   "cell_type": "code",
   "execution_count": null,
   "metadata": {},
   "outputs": [],
   "source": []
  },
  {
   "cell_type": "markdown",
   "metadata": {},
   "source": [
    "### Question 3 (5)\n",
    "Use the music.db database to answer this question.  You can test your query in the template above: please paste only the SQL in your answer on Canvas.  If the template doesn't work, you should have the information you need on the schema to be able to answer the question.\n",
    "\n",
    "Write a query to display a list of the names of all track titles in playlist 8 that have \"baby\" in the title, either as a standalone word or part of another word, along with the playlist ID.  "
   ]
  },
  {
   "cell_type": "markdown",
   "metadata": {},
   "source": [
    "You can test your query in the template above: please paste only the SQL to Canvas."
   ]
  },
  {
   "cell_type": "markdown",
   "metadata": {},
   "source": [
    "### Question 4 (5)\n",
    "\n",
    "Use the music.db database on the Final Exam module to answer this question.\n",
    "\n",
    "There are 25 genres.  What's the average length of songs of each genre (in column length_ms)?  Write a query to list the name of each genre along \n",
    "with the average length, for a total of two columns.  The column with the average length should be called *average_length*."
   ]
  },
  {
   "cell_type": "markdown",
   "metadata": {},
   "source": [
    "You can test your query in the template at the top of this notebook: please paste only the SQL to Canvas."
   ]
  },
  {
   "cell_type": "markdown",
   "metadata": {},
   "source": [
    "###  Question 5 (10)\n",
    "\n",
    "There are three cups on a table, at positions A, B, and C. At the start, there is a ball hidden under the cup at position B.\n",
    "\n",
    "However, I perform several swaps on the cups, where each swap is represented by two letters. For example, if I swap the cups at positions A and B, I could represent this as AB or BA.  (The order doesn't matter.)\n",
    "\n",
    "Create a function *ballposition* that returns the final letter position of the ball after all the cup swaps have been performed. The function has one parameter, a list of swaps called *swaplist*, where each swap is represented as a two-character string.  The function should return one of the strings \"A\", \"B\", or \"C\" representing the final position of the ball.\n",
    "\n",
    "For the example where `swaplist = [\"AB\", \"CA\", \"AB\"]`, \n",
    "* \"AB\":  The cups in position A and B are switched.  Since the ball was in position B at the start, it's now in position A.  \n",
    "* \"CA\":  The cups in position C and A are switched.  Since the ball was in position A, it's now in position C.\n",
    "* \"AB\":  The cups in position A and B are switched.  Since the ball isn't in either of those positions, the ball's position is unchanged, and C is returned."
   ]
  },
  {
   "cell_type": "code",
   "execution_count": null,
   "metadata": {},
   "outputs": [],
   "source": [
    "def ballposition(swaplist):"
   ]
  },
  {
   "cell_type": "code",
   "execution_count": null,
   "metadata": {},
   "outputs": [],
   "source": [
    "# After you write your function, test it by running the code in this cell\n",
    "ballposition([\"AB\", \"CA\", \"AB\"])  # should return 'C'\n",
    "ballposition([\"AC\", \"CA\", \"AB\", \"BC\"])  # should return 'A'\n",
    "ballposition([\"BC\", \"AB\", \"AB\", \"BC\"])  # should return 'B'"
   ]
  },
  {
   "cell_type": "markdown",
   "metadata": {},
   "source": [
    "### Info for questions 6 and 7\n",
    "\n",
    "You want to learn how to bake cakes from your friend by following along with them over video chat, but you're not sure which cake recipes you can both make--it depends on the items you both have in your pantry.\n",
    "\n",
    "A *pantry* is a dictionary where each key is an ingredient, and each value is a number representing the quantity of that ingredient in that pantry.\n",
    "`alice_pantry = {'egg': 12, 'cup of sugar': 4, 'cup of flour': 4}`\n",
    "\n",
    "A *recipe* is also a dictionary where each key is an ingredient, and each value is a number representing the quantity of that ingredient required for the recipe.\n",
    "`a_recipe = {'cup of sugar': 4, 'cup of flour': 4}`\n",
    "\n",
    "A cookbook is a nested dictionary where each key is the name of a recipe, and each value is a *recipe dictionary* as described above.\n",
    "\n",
    "```\n",
    "cookbook = {\n",
    "    'dusty cake' : {'cup of sugar': 4, 'cup of flour': 4},\n",
    "    'eggy cake'  : {'egg': 1 },\n",
    "    'eggier cake'  : {'egg': 10 },\n",
    "    'mega egg'  : {'egg': 100 },\n",
    "    'chocolate cake' : {'egg': 2, 'cup of sugar': 2, 'chocolate': 1} }\n",
    "```\n",
    "\n",
    "A recipe is considered bakeable if your pantry has at least enough of every ingredient required by the recipe.  If a pantry has none of an item required by the recipe then the recipe is not bakeable."
   ]
  },
  {
   "cell_type": "markdown",
   "metadata": {},
   "source": [
    "### Question 6 (6)\n",
    "\n",
    "Write a function *single_bakeable* with two parameters:  the first is a pantry dictionary *pantry*, and the second is a recipe dictionary *recipe* (a single recipe, not a cookbook).  The function should return True if the recipe is bakeable and False otherwise.\n",
    "\n",
    "Given the following:\n",
    "```\n",
    "alice_pantry = {'egg': 12, 'cup of sugar': 4, 'cup of flour': 4} \n",
    "recipe1 = {'egg': 2, 'cup of sugar': 2, 'chocolate': 1}\n",
    "```\n",
    "Then `single_bakeable(alice_pantry, recipe1)` returns `False` because alice has no chocolate."
   ]
  },
  {
   "cell_type": "code",
   "execution_count": null,
   "metadata": {},
   "outputs": [],
   "source": [
    "def single_bakeable(pantry, recipe):"
   ]
  },
  {
   "cell_type": "code",
   "execution_count": null,
   "metadata": {
    "tags": []
   },
   "outputs": [],
   "source": [
    "# after writing your function test it by running this cell\n",
    "alice_pantry = {'egg': 12, 'cup of sugar': 4, 'cup of flour': 4} \n",
    "recipe1 = {'egg': 2, 'cup of sugar': 2, 'chocolate': 1}\n",
    "\n",
    "single_bakeable(alice_pantry, recipe1)"
   ]
  },
  {
   "cell_type": "markdown",
   "metadata": {},
   "source": [
    "\n",
    "### Question 7 (6):\n",
    "Write a function *find_bakeable* with three parameters:  a dictionary representing your pantry called *my_pantry*, a dictionary representing your friend's pantry called *friend_pantry*, and a cookbook dictionary of the format stated above.  The function should return an alphabetically-sorted list of all cake names that you and your friend can **both** make using the ingredients you both have available in your own kitchen pantries.  This function should call *single_bakeable*.\n",
    "\n",
    "Given the following:\n",
    "```\n",
    "alice_pantry = {'egg': 12, 'cup of sugar': 4, 'cup of flour': 4} \n",
    "bob_pantry = {'egg': 12, 'cup of sugar': 4, 'chocolate': 5} \n",
    "weird_cookbook = {\n",
    "    'dusty cake' : {'cup of sugar': 4, 'cup of flour': 4},\n",
    "    'eggy cake'  : {'egg': 1 },\n",
    "    'eggier cake'  : {'egg': 10 },\n",
    "    'mega egg'  : {'egg': 100 },\n",
    "    'chocolate cake' : {'egg': 2, 'cup of sugar': 2, 'chocolate': 1} }\n",
    "```\n",
    "Then `find_bakeable(alice_pantry, bob_pantry, weird_cookbook)` should return \n",
    "`['eggier cake', 'eggy cake']`."
   ]
  },
  {
   "cell_type": "code",
   "execution_count": null,
   "metadata": {},
   "outputs": [],
   "source": [
    "def find_bakeable(my_pantry, friend_pantry, cookbook):"
   ]
  },
  {
   "cell_type": "code",
   "execution_count": null,
   "metadata": {},
   "outputs": [],
   "source": [
    "# After you write your function, test it by running this cell\n",
    "alice_pantry = {'egg': 12, 'cup of sugar': 4, 'cup of flour': 4} \n",
    "bob_pantry = {'egg': 12, 'cup of sugar': 4, 'chocolate': 5} \n",
    "recipes = {\n",
    "    'dusty cake' : {'cup of sugar': 4, 'cup of flour': 4},\n",
    "    'eggy cake'  : {'egg': 1 },\n",
    "    'eggier cake'  : {'egg': 10 },\n",
    "    'mega egg'  : {'egg': 100 },\n",
    "'chocolate cake' : {'egg': 2, 'cup of sugar': 2, 'chocolate': 1} }\n",
    "\n",
    "find_bakeable(alice_pantry, bob_pantry, recipes)"
   ]
  },
  {
   "cell_type": "markdown",
   "metadata": {},
   "source": [
    "### Question 8 (20)\n",
    "\n",
    "Assume you are rolling two six-sided dice, each side having an equal chance of occurring. Write a function *roll_dice* with a single parameter, an integer *N*, where the returned value is the sum of the values of the two dice thrown on all rolls but with the following extra rules:\n",
    "\n",
    "* if the two dice rolls are NOT the same (if one die has a different value than the other die), then the two dice are rolled again, and the resulting sum added to the running total, and\n",
    "* the two dice will be rolled together a maximum of N times, even if die 1 has a different value than die 2 for all rolls.\n",
    "\n",
    "For example, assume that *N* = 3.\n",
    "\n",
    "* If the two dice show 3 and 3 on the first roll, then the function should return 6.\n",
    "* If the first roll of two dice show 1 and 3, and then a second roll shows 4 and 4, then the running total returned should be 12.  \n",
    "* If the first roll of two dice show 1 and 3, and then a second roll shows 1 and 2, and then a third roll shows 3 and 4, no more rolls are made, and the total returned is 14.\n",
    "Rolls stop when the die 1 and die 2 have the same value or after *N* rolls have been reached.\n",
    "\n",
    "For each roll your code should also print the value of each die on the roll and current value of the running sum as a tuple, where the running sum includes the value of those dice:  `(die1, die2, current value)`.\n",
    "\n",
    "To do this you will need the *random.randint* function from the *random* module. Remember that if you import the random module, then `random.randint(a,b)` will generate a random integer between a and b, inclusive."
   ]
  },
  {
   "cell_type": "code",
   "execution_count": null,
   "metadata": {},
   "outputs": [],
   "source": [
    "def roll_dice(N):"
   ]
  },
  {
   "cell_type": "code",
   "execution_count": null,
   "metadata": {
    "tags": []
   },
   "outputs": [],
   "source": [
    "# after writing your function, run this code to test it, although your answers will vary.\n",
    "import random\n",
    "roll_dice(4)"
   ]
  },
  {
   "cell_type": "markdown",
   "metadata": {
    "tags": []
   },
   "source": [
    "### Question 9 (15)\n",
    "Create a function *majority* with one parameter, a list of votes called *votelist*.  Each element in *votelist* is a string representing the votes from one voting district in a city with this format:  \"district:choice:choice:choice...\", where each instance of \"choice\" was the candidate chosen by one voter in that district.\n",
    "\n",
    "For example, District 1 might report its results as `\"dist1:A:A:B:B:C:C:C:C\"`.\n",
    "\n",
    "The function should return the name of the candidate who received the majority vote over all districts. A majority vote is an element that occurs > N/2 times in a list (where N is the length of the list).  If there is no majority, return the string \"NA\".  (Exactly 50% is **not** considered a majority.)"
   ]
  },
  {
   "cell_type": "code",
   "execution_count": null,
   "metadata": {},
   "outputs": [],
   "source": [
    "def majority(votelist):\n",
    "    "
   ]
  },
  {
   "cell_type": "code",
   "execution_count": null,
   "metadata": {
    "tags": []
   },
   "outputs": [],
   "source": [
    "# After your write your function run the code in this cell to test it\n",
    "\n",
    "dist1 = \"dist1:A:A:B:B:C:C:C:C\"\n",
    "dist2 = \"dist2:A:B:C\"\n",
    "dist3 = \"dist3:A:B:C\"\n",
    "dist4 = \"dist4:B:B:B\"\n",
    "\n",
    "majority([dist1, dist2, dist3]) # return \"C\"\n",
    "majority([dist2, dist3]) # return \"NA\"\n",
    "majority([dist3, dist4]) # return \"B\""
   ]
  },
  {
   "cell_type": "markdown",
   "metadata": {
    "tags": []
   },
   "source": [
    "### Question 10 (13)\n",
    "\n",
    "The file *shipments.txt* represents shipments of items to a store. Each line has the item number, the color, and the quantity, in that order, separated by commas. Each line corresponds to only one combination of item and color; sometimes items of a particular color arrive in multiple separate shipments.\n",
    "\n",
    "Write a function *inventory* with one parameter, the name of a file (as a string) that has the format stated above.  The function should import the file and return a dictionary of the form shown below, designed to keep track of inventory.  Each item is a key.  The values are another dictionary where the colors are keys and the values are the total quantity of that item.\n",
    "\n",
    "Here is the general form the dictionary should take:\n",
    "```\n",
    "{'item1': {'color1': 2, 'color2': 16},\n",
    "'item2': {'color1': 4},\n",
    "'item3': {'color3': 10}\n",
    "}\n",
    "```"
   ]
  },
  {
   "cell_type": "code",
   "execution_count": null,
   "metadata": {},
   "outputs": [],
   "source": [
    "def inventory(filename):"
   ]
  },
  {
   "cell_type": "code",
   "execution_count": null,
   "metadata": {
    "tags": []
   },
   "outputs": [],
   "source": [
    "# Run this code to test your function after writing it\n",
    "inventory(\"shipments.txt\")"
   ]
  },
  {
   "cell_type": "markdown",
   "metadata": {},
   "source": [
    "### Question 11 (5)\n",
    "Add code below to print the user's chosen option from the *choice* widget when the button *mybutton* is clicked.  You do not have to clear the output."
   ]
  },
  {
   "cell_type": "code",
   "execution_count": null,
   "metadata": {
    "tags": []
   },
   "outputs": [],
   "source": [
    "import ipywidgets as widgets\n",
    "main_out = widgets.Output()\n",
    "choice = widgets.Select(options = [\"I love Python!\", \"I really love Python!\"])\n",
    "mybutton = widgets.Button(description = \"Click me!\")\n",
    "\n",
    "# Add code here to print the user's chosen option when the button is clicked.\n",
    "# No output clearing is necessary.\n",
    "\n",
    "\n",
    "with main_out:\n",
    "    display(choice, mybutton)\n",
    "    \n",
    "main_out"
   ]
  },
  {
   "cell_type": "markdown",
   "metadata": {},
   "source": [
    "### Question 12 (10)\n",
    "Create a function *f* with one parameter, a string of the form given below named *mystring*.  When given the inputs below it should return the corresponding sample outputs shown.  You may assume that your inputs will always have the form shown.\n",
    "\n",
    "Examples:\n",
    "\n",
    "`f(\"A4B5C2\")` returns `\"AAAABBBBBCC\"`\n",
    "\n",
    "`f(\"C2F1E5\")` returns `\"CCFEEEEE\"`\n",
    "\n",
    "`f(\"T4S2V2\")` returns `\"TTTTSSVV\"`\n",
    "\n",
    "`f(\"A1B2C3D4\")` returns `\"ABBCCCDDDD\"`\n",
    "\n",
    "**Hint:**  remember that `\"banana\"*3` will give `bananabananabanana`."
   ]
  },
  {
   "cell_type": "code",
   "execution_count": null,
   "metadata": {},
   "outputs": [],
   "source": [
    "def f(mystring):"
   ]
  },
  {
   "cell_type": "code",
   "execution_count": null,
   "metadata": {
    "tags": []
   },
   "outputs": [],
   "source": [
    "# After you write your function, run this code to test.\n",
    "f(\"A4B5C2\") # returns \"AAAABBBBBCC\"\n",
    "\n",
    "f(\"C2F1E5\") # returns \"CCFEEEEE\"\n",
    "\n",
    "f(\"T4S2V2\") # returns \"TTTTSSVV\"\n",
    "\n",
    "f(\"A1B2C3D4\") #returns \"ABBCCCDDDD\""
   ]
  }
 ],
 "metadata": {
  "kernelspec": {
   "display_name": "Python 3 (ipykernel)",
   "language": "python",
   "name": "python3"
  },
  "language_info": {
   "codemirror_mode": {
    "name": "ipython",
    "version": 3
   },
   "file_extension": ".py",
   "mimetype": "text/x-python",
   "name": "python",
   "nbconvert_exporter": "python",
   "pygments_lexer": "ipython3",
   "version": "3.11.4"
  }
 },
 "nbformat": 4,
 "nbformat_minor": 4
}
