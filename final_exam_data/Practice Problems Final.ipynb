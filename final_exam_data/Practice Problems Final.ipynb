{
 "cells": [
  {
   "cell_type": "markdown",
   "id": "fa432a35-07f5-4710-9f7a-3604a2d152f5",
   "metadata": {},
   "source": [
    "## Final Exam Practice Problems\n",
    "\n",
    "Some of these (particularly problems 6 - 8) are longer or more involved than the practice problems for our in-class exams because you'll have more time to work on the final."
   ]
  },
  {
   "cell_type": "code",
   "execution_count": null,
   "id": "77ccca58-1a48-421c-9ea2-91d62453c033",
   "metadata": {},
   "outputs": [],
   "source": [
    "#Print multiple outputs from a cell\n",
    "get_ipython().ast_node_interactivity = 'all'"
   ]
  },
  {
   "cell_type": "markdown",
   "id": "630c49b5-b375-445c-b1e8-5c7d8db34730",
   "metadata": {},
   "source": [
    "### Q1\n",
    "\n",
    "Write a function *twosums* that takes as arguments a list of integers between 1 and 999 and returns the sum of the 1-digit numbers AND the sum of the 2-digit numbers AND the sum of the 3-digit numbers.  (Remember to return multiple values you can return a tuple made by enclosing the values in parentheses and separating them with commas.)"
   ]
  },
  {
   "cell_type": "code",
   "execution_count": null,
   "id": "74743152-fe4f-43c8-b8b4-e9389bb78885",
   "metadata": {},
   "outputs": [],
   "source": [
    "#code for Q1 goes here"
   ]
  },
  {
   "cell_type": "code",
   "execution_count": null,
   "id": "112cd276-dc8d-48b6-9ea4-1b1b9b097c24",
   "metadata": {},
   "outputs": [],
   "source": [
    "#test with this after writing your function\n",
    "twosums([5, 8, 2, 3, 6, 9, 100, 82, 348, 23]) # returns (33, 105, 448)"
   ]
  },
  {
   "cell_type": "markdown",
   "id": "719ac6be-42b7-4b20-ba0e-196aefc3223f",
   "metadata": {},
   "source": [
    "### Q2\n",
    "\n",
    "Create a function *best_grade* that takes a dictionary like `{'name':\"Wanda\", 'grades':[98,72,83]}` and returns the dictionary `{'name':\"Wanda\", 'best grade':98}\n"
   ]
  },
  {
   "cell_type": "code",
   "execution_count": null,
   "id": "5a5dbce5-0256-4763-9104-fa8aedca3b46",
   "metadata": {},
   "outputs": [],
   "source": [
    "# Code for Q2 goes here"
   ]
  },
  {
   "cell_type": "code",
   "execution_count": null,
   "id": "09fc5a85-6df8-4970-ad81-8b109ec5278e",
   "metadata": {
    "tags": []
   },
   "outputs": [],
   "source": [
    "#Test with this after writing your function\n",
    "mydict = {'name':\"Wanda\", 'grades':[98,72,83]}\n",
    "\n",
    "best_grade(mydict) #returns {'name': 'Wanda', 'best grade': 98}\n",
    "    "
   ]
  },
  {
   "cell_type": "markdown",
   "id": "c2373c31-710b-4583-aeb1-4bfb013bce98",
   "metadata": {
    "tags": []
   },
   "source": [
    "### Q3\n",
    "\n",
    "Create a function *numtimes* that takes two arguments:  one, a string that is a sentence (assume no punctuation), and two, a character.  The function should return a list of Boolean values where the first value of the list is True if the first word contains the character and False otherwise.  The second value of the list is True is the second word contains the character and False otherwise, and so on.  \n",
    "\n",
    "If the string is empty an empty list should be returned.\n",
    "\n",
    "Treat upper and lower case characters of the same letter as being identical (e.g. \"a\" appears in Ann). (adapted from https://edabit.com/challenge/ucsJxQNrkYnpzPaFj)\n",
    "\n",
    "`numtimes(\"She sells seashells by the seashore\", \"s\")` should return  `[True, True, True, False, False, True]`"
   ]
  },
  {
   "cell_type": "code",
   "execution_count": null,
   "id": "ccd02ceb-79c4-4522-800c-ed6c6b9814af",
   "metadata": {},
   "outputs": [],
   "source": []
  },
  {
   "cell_type": "code",
   "execution_count": null,
   "id": "074c5b67-2a5f-40b3-9e79-a4faa565a99f",
   "metadata": {},
   "outputs": [],
   "source": [
    "# Test with this after writing your function\n",
    "numtimes(\"She sells seashells by the seashore\", 's') # [True, True, True, False, False, True]\n",
    "numtimes(\"Pretzels are delicious\", 'm') # [False, False, False]\n",
    "numtimes(\"\", \"t\") #[]"
   ]
  },
  {
   "cell_type": "markdown",
   "id": "f9a37586-cc34-49b8-905d-6398117905d2",
   "metadata": {},
   "source": [
    "### Q4\n",
    "Below is a for loop that loops by *value*.  Your job is to write two sets of code to process a list named `fish`:  the first should use a for loop that loops by *index*; the second should use  a while loop.  You should have only one loop in each solution (so don't embed a for loop inside a while loop).  Be wary of writing infinite loops when you use a while loop."
   ]
  },
  {
   "cell_type": "code",
   "execution_count": null,
   "id": "662d0029-786e-4950-8f6a-a26b7cd95445",
   "metadata": {},
   "outputs": [],
   "source": [
    "# Code to duplicate\n",
    "fish = ['trout', 'mackerel', 'sole', 'walleye']\n",
    "\n",
    "for species in fish:\n",
    "    print(f\"The word {species} has {len(species)} letters.\")"
   ]
  },
  {
   "cell_type": "code",
   "execution_count": null,
   "id": "d6cd0f47-34ba-42d3-b5da-6d6e0475a021",
   "metadata": {},
   "outputs": [],
   "source": [
    "# Put your code for a for loop that loops by index here"
   ]
  },
  {
   "cell_type": "code",
   "execution_count": null,
   "id": "ec78351d-7777-449b-bc1f-2b325452421b",
   "metadata": {},
   "outputs": [],
   "source": [
    "# Put your code for a while loop here"
   ]
  },
  {
   "cell_type": "markdown",
   "id": "f524ea54-2c40-49e3-89d3-d0bd5c6e24f1",
   "metadata": {
    "tags": []
   },
   "source": [
    "### Q5\n",
    "\n",
    "Construct a Python function called *min_max_fractions* that can read a list of fractions where the numerator and denominator are both whole numbers and return a tuple of the smallest and largest fractions found in the list, expressed as strings.\n",
    "\n",
    "For example, given an input list `[\"12/5\", \"94/37\", \"25/3\", \"90/57\"]` your function should return `(\"90/57\", \"25/3\")`."
   ]
  },
  {
   "cell_type": "code",
   "execution_count": null,
   "id": "a20a97f9-442c-447a-9f36-bf891a68dbe5",
   "metadata": {},
   "outputs": [],
   "source": [
    "#Your Q5 answer goes here."
   ]
  },
  {
   "cell_type": "markdown",
   "id": "6a7f9855-4e55-4261-a1b7-9ffc379fcc44",
   "metadata": {},
   "source": [
    "### Q6\n",
    "Write a function *interleave_lists* that is passed two lists of integers (list1 and list2), and should return a new list of integers that interleaves the elements (numbers) from list1 and list2. The result of interleaving list1 and list2 is simply a list of integers that contains (in order) alternating elements (numbers) from list1 and list2 (starting with a number from list1). If one of the lists passed in to the function is longer than the other, then any remaining numbers from the longer list which are not already included in the interleaved list are simply added (in order) to the end of the result.\n",
    "\n",
    "For the examples we give below, say we have the following lists:\n",
    "\n",
    "first = `[1, 2, 3, 4, 5, 6, 7]`\n",
    "\n",
    "second = `[10, 20, 30, 40]`   \n",
    "\n",
    "Calling: `interleave_lists(first, second)` should return this list: `[1, 10, 2, 20, 3, 30, 4, 40, 5, 6, 7]`.  More examples are in the test cell below.\n",
    "\n",
    "Note that the interleaved lists that is returned starts with the value 1 from the list first, then 10 from the list second, then 2 from the list first, then 20 from the list second, and so on. Since the list first is longer than the list second, after the values 1, 2, 3 and 4 from the list first have been interleaved with the values 10, 20, 30 and 40 from the list second, the remaining elements of the lists first (5, 6, 7) are simply added to the end of the resulting interleaved list.\n",
    "\n",
    "If one of the lists passed into your function is an empty list (`[]`), you should still perform an interleaving, but the empty list will contribute nothing to the result. If you are passed two empty lists, your function should return an empty list."
   ]
  },
  {
   "cell_type": "code",
   "execution_count": null,
   "id": "804fa862-39bd-4b90-b8f1-c22d43b597d2",
   "metadata": {},
   "outputs": [],
   "source": [
    "# your q6 code goes here."
   ]
  },
  {
   "cell_type": "code",
   "execution_count": null,
   "id": "44bdcd9f-1f8d-425b-8b2d-12cfc2af32ae",
   "metadata": {},
   "outputs": [],
   "source": [
    "# Test your code after you write it by running these\n",
    "\n",
    "first = [1, 2, 3, 4, 5, 6, 7]\n",
    "second = [10, 20, 30, 40]\n",
    "third = [100]\n",
    "fourth = [1,2,3,4]\n",
    "\n",
    "interleave_lists(first, second) #should return [1, 10, 2, 20, 3, 30, 4, 40, 5, 6, 7]\n",
    "interleave_lists(second, third) # [10, 100, 20, 30, 40]\n",
    "interleave_lists(third, first) # [100, 1, 2, 3, 4, 5, 6, 7]\n",
    "interleave_lists(second, fourth) # [10, 1, 20, 2, 30, 3, 40, 4]\n",
    "interleave_lists(first, []) # [1, 2, 3, 4, 5, 6, 7]\n",
    "interleave_lists([],[]) #  []"
   ]
  },
  {
   "cell_type": "markdown",
   "id": "a8baddf4-dec2-4ff9-bdff-5b6773ccebaa",
   "metadata": {
    "tags": []
   },
   "source": [
    "### Q7\n",
    "\n",
    "Write a function called *flip_d* to \"flip\" a dictionary. It should take as input a dictionary and return a new dictionary where the keys of the new dictionary are values from the input dictionary and the values of the new dictionary are lists of keys from the input dictionary. \n",
    "\n",
    "For example, this input: `{ \"key1\" : \"value1\", \"key2\" : \"value2\", \"key3\" : \"value1\" }` should return this dictionary: `{ \"value1\" : [\"key1\", \"key3\"], \"value2\" : [\"key2\"] }`\n",
    "\n",
    "Given `dict = {\"kitchen\":\"purple\", \"living room\": \"purple\", \"bathroom\": \"orange\"}`, should return `{'purple': ['kitchen', 'living room'], 'orange': ['bathroom']}`"
   ]
  },
  {
   "cell_type": "code",
   "execution_count": null,
   "id": "db49009f-1496-4314-984a-13693887a58c",
   "metadata": {
    "jupyter": {
     "source_hidden": true
    },
    "tags": []
   },
   "outputs": [],
   "source": [
    "# your Q7 answer goes here"
   ]
  },
  {
   "cell_type": "markdown",
   "id": "a2432b4a-05a1-4e91-9119-c59ccf781d5c",
   "metadata": {},
   "source": [
    "### Q8\n",
    "\n",
    "Abigail and Benson are playing Rock, Paper, Scissors.  They play a round consisting of several matches.\n",
    "\n",
    "Each match is represented by list of length 2, where the first element represents what Abigail played and the second element represents what Benson played.\n",
    "\n",
    "A round is represented by a tuple of games.  Write a function *calc_score* that takes a tuple of games as input and returns the name of the player who won the most matches. If they tie, return \"Tie\".\n",
    "\n",
    "R stands for Rock\n",
    "P stands for Paper\n",
    "S stands for Scissors\n",
    "\n",
    "calc_score([[\"R\", \"P\"], [\"R\", \"S\"], [\"S\", \"P\"]]) ➞ \"Abigail\"    \n",
    "calc_score([[\"R\", \"R\"], [\"S\", \"S\"]]) ➞ \"Tie\"    \n",
    "calc_score([[\"S\", \"R\"], [\"R\", \"S\"], [\"R\", \"R\"]]) ➞ \"Tie\"\n",
    "\n",
    "from https://edabit.com/challenge/p6uXeD7JC7cmxeD2Z\n",
    "\n",
    "\n"
   ]
  },
  {
   "cell_type": "code",
   "execution_count": null,
   "id": "16f3bc16-9047-4bca-b0ad-e8309bc39999",
   "metadata": {},
   "outputs": [],
   "source": [
    "# your Q8 answer goes here."
   ]
  },
  {
   "cell_type": "code",
   "execution_count": null,
   "id": "a650cbfa-b68e-42c8-ab01-95205b43518e",
   "metadata": {},
   "outputs": [],
   "source": [
    "#Test by running this cell after creating your function\n",
    "calc_score([[\"R\", \"P\"], [\"R\", \"S\"], [\"S\", \"P\"]])   #Abigail  \n",
    "calc_score([[\"R\", \"R\"], [\"S\", \"S\"]]) #Tie\n",
    "calc_score([[\"S\", \"R\"], [\"R\", \"S\"], [\"R\", \"R\"]]) #Tie"
   ]
  }
 ],
 "metadata": {
  "kernelspec": {
   "display_name": "Python 3 (ipykernel)",
   "language": "python",
   "name": "python3"
  },
  "language_info": {
   "codemirror_mode": {
    "name": "ipython",
    "version": 3
   },
   "file_extension": ".py",
   "mimetype": "text/x-python",
   "name": "python",
   "nbconvert_exporter": "python",
   "pygments_lexer": "ipython3",
   "version": "3.8.16"
  }
 },
 "nbformat": 4,
 "nbformat_minor": 5
}
